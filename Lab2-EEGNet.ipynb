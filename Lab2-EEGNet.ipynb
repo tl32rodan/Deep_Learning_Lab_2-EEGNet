{
 "cells": [
  {
   "cell_type": "code",
   "execution_count": 1,
   "metadata": {},
   "outputs": [],
   "source": [
    "import torch\n",
    "import torch.nn as nn\n",
    "import torch.nn.functional as F\n",
    "import matplotlib.pyplot as plt\n",
    "from collections import OrderedDict\n",
    "\n",
    "from run_model import run, draw_figure"
   ]
  },
  {
   "cell_type": "code",
   "execution_count": 2,
   "metadata": {},
   "outputs": [
    {
     "data": {
      "text/plain": [
       "device(type='cuda', index=0)"
      ]
     },
     "execution_count": 2,
     "metadata": {},
     "output_type": "execute_result"
    }
   ],
   "source": [
    "from dataloader import read_bci_data\n",
    "device = torch.device(\"cuda:0\" if torch.cuda.is_available() else \"cpu\")\n",
    "device"
   ]
  },
  {
   "cell_type": "code",
   "execution_count": 3,
   "metadata": {},
   "outputs": [
    {
     "name": "stdout",
     "output_type": "stream",
     "text": [
      "(1080, 1, 2, 750) (1080,) (1080, 1, 2, 750) (1080,)\n"
     ]
    }
   ],
   "source": [
    "# Load data\n",
    "train_data, train_label, test_data, test_label = read_bci_data()\n",
    "\n",
    "# Convert data type into float32\n",
    "train_data  = torch.from_numpy(train_data).type(torch.float32)\n",
    "train_label = torch.from_numpy(train_label).type(torch.long)\n",
    "test_data   = torch.from_numpy(test_data).type(torch.float32)\n",
    "test_label  = torch.from_numpy(test_label).type(torch.long)"
   ]
  },
  {
   "cell_type": "markdown",
   "metadata": {},
   "source": [
    "## Implement EEGNet"
   ]
  },
  {
   "cell_type": "code",
   "execution_count": null,
   "metadata": {},
   "outputs": [],
   "source": [
    "from EEGNet import EEGNet"
   ]
  },
  {
   "cell_type": "markdown",
   "metadata": {},
   "source": [
    "# Run Model"
   ]
  },
  {
   "cell_type": "code",
   "execution_count": null,
   "metadata": {
    "scrolled": false
   },
   "outputs": [],
   "source": [
    "\n",
    "line_list = []\n",
    "label_list = ['elu_train','elu_test','leaky_relu_train','leaky_relu_test','relu_train','relu_test']\n",
    "\n",
    "# ELU\n",
    "net = EEGNet().to(device)\n",
    "loss_list, acc_train_list, acc_test_list = run(net, train_data,train_label,test_data,test_label\\\n",
    "                                               , num_epochs = 300, batch_size = 64, print_freq = 301)\n",
    "line_list.append(acc_train_list)\n",
    "line_list.append(acc_test_list)\n",
    "\n",
    "# Leaky_relu\n",
    "net = EEGNet(act_f='leakyrelu').to(device)\n",
    "loss_list, acc_train_list, acc_test_list = run(net, train_data,train_label,test_data,test_label\\\n",
    "                                               , num_epochs = 300, batch_size = 64, print_freq = 301)\n",
    "line_list.append(acc_train_list)\n",
    "line_list.append(acc_test_list)\n",
    "\n",
    "# Relu\n",
    "net = EEGNet(act_f='relu').to(device)\n",
    "loss_list, acc_train_list, acc_test_list = run(net, train_data,train_label,test_data,test_label\\\n",
    "                                               ,num_epochs = 300, batch_size = 64, print_freq = 301)\n",
    "line_list.append(acc_train_list)\n",
    "line_list.append(acc_test_list)"
   ]
  },
  {
   "cell_type": "markdown",
   "metadata": {},
   "source": [
    "# Draw loss & accuracy figures"
   ]
  },
  {
   "cell_type": "code",
   "execution_count": null,
   "metadata": {},
   "outputs": [],
   "source": [
    "plt.figure(figsize=[24,18])\n",
    "draw_figure(plt,line_list,label_list, loc='best')"
   ]
  },
  {
   "cell_type": "code",
   "execution_count": null,
   "metadata": {},
   "outputs": [],
   "source": [
    "plt.figure(figsize=[24,18])\n",
    "draw_figure(plt,[loss_list])"
   ]
  },
  {
   "cell_type": "code",
   "execution_count": null,
   "metadata": {},
   "outputs": [],
   "source": []
  }
 ],
 "metadata": {
  "kernelspec": {
   "display_name": "Python 3",
   "language": "python",
   "name": "python3"
  },
  "language_info": {
   "codemirror_mode": {
    "name": "ipython",
    "version": 3
   },
   "file_extension": ".py",
   "mimetype": "text/x-python",
   "name": "python",
   "nbconvert_exporter": "python",
   "pygments_lexer": "ipython3",
   "version": "3.8.3"
  }
 },
 "nbformat": 4,
 "nbformat_minor": 4
}
