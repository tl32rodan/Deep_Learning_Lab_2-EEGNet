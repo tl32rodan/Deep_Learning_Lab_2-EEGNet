{
 "cells": [
  {
   "cell_type": "code",
   "execution_count": 1,
   "metadata": {},
   "outputs": [],
   "source": [
    "import torch\n",
    "import torch.nn as nn\n",
    "import torch.nn.functional as F\n",
    "import matplotlib.pyplot as plt\n",
    "from collections import OrderedDict"
   ]
  },
  {
   "cell_type": "code",
   "execution_count": 2,
   "metadata": {},
   "outputs": [
    {
     "data": {
      "text/plain": [
       "device(type='cuda', index=0)"
      ]
     },
     "execution_count": 2,
     "metadata": {},
     "output_type": "execute_result"
    }
   ],
   "source": [
    "from dataloader import read_bci_data\n",
    "device = torch.device(\"cuda:0\" if torch.cuda.is_available() else \"cpu\")\n",
    "device"
   ]
  },
  {
   "cell_type": "code",
   "execution_count": 53,
   "metadata": {},
   "outputs": [
    {
     "name": "stdout",
     "output_type": "stream",
     "text": [
      "(1080, 1, 2, 750) (1080,) (1080, 1, 2, 750) (1080,)\n"
     ]
    }
   ],
   "source": [
    "# Load data\n",
    "train_data, train_label, test_data, test_label = read_bci_data()\n",
    "\n",
    "# Convert data type into float32\n",
    "train_data  = torch.from_numpy(train_data).type(torch.float32)\n",
    "train_label = torch.from_numpy(train_label).type(torch.long)\n",
    "test_data   = torch.from_numpy(test_data).type(torch.float32)\n",
    "test_label  = torch.from_numpy(test_label).type(torch.long)"
   ]
  },
  {
   "cell_type": "markdown",
   "metadata": {},
   "source": [
    "## Implement EEGNet"
   ]
  },
  {
   "cell_type": "code",
   "execution_count": 114,
   "metadata": {},
   "outputs": [],
   "source": [
    "class EEGNet(nn.Sequential):\n",
    "    def __init__(self):\n",
    "        ### Layer 1\n",
    "        firstconv = nn.Sequential(\n",
    "            nn.Conv2d(1,16,kernel_size=(1,51),stride=(1,1), padding=(0,25), bias=False),\n",
    "            nn.BatchNorm2d(16)\n",
    "        )\n",
    "        \n",
    "        ### Layer 2\n",
    "        depthwiseConv = nn.Sequential(\n",
    "            nn.Conv2d(16,32,kernel_size=(2,1),stride=(1,1),groups=16,bias=False),\n",
    "            nn.BatchNorm2d(32),\n",
    "            nn.ELU(alpha=0.1),\n",
    "            nn.AvgPool2d(kernel_size=(1,4), stride=(1,4),padding=0),\n",
    "            nn.Dropout2d(p = 0.25)\n",
    "        )\n",
    "        \n",
    "        ### Layer 3\n",
    "        seperableConv = nn.Sequential(\n",
    "            nn.Conv2d(32,32,kernel_size=(1,15),stride=(1,1),padding=(0,7),bias=False),\n",
    "            nn.BatchNorm2d(32),\n",
    "            nn.ELU(alpha=0.1),\n",
    "            nn.AvgPool2d(kernel_size=(1,8), stride=(1,8),padding=0),\n",
    "            nn.Dropout2d(p = 0.25),\n",
    "            nn.Flatten()\n",
    "        )\n",
    "        \n",
    "        ### Fully connected layer\n",
    "        classify = nn.Sequential(\n",
    "            nn.Linear(in_features=736, out_features=2, bias=True)\n",
    "        )\n",
    "        super(EEGNet, self).__init__(OrderedDict([\n",
    "                  ('firstconv'    , firstconv),\n",
    "                  ('depthwiseConv', depthwiseConv),\n",
    "                  ('seperableConv', seperableConv),\n",
    "                  ('classify'     , classify)\n",
    "                ]))\n",
    "        \n",
    "    def forward(self,x):\n",
    "        x = super(EEGNet,self).forward(x)\n",
    "        return x\n",
    "    \n",
    "    def infer_and_cal_acc(self,x,ground_truth):\n",
    "        # Run self.forward(x) and calculate accuracy with ground_truth\n",
    "        \n",
    "        y = self.forward(x)\n",
    "        # Get the calssification result of y,\n",
    "        # because y has 2 channels for each class\n",
    "        _, y_hat = torch.max(y,1)\n",
    "        # Calculate accuracy\n",
    "        acc = 100*(len(ground_truth[ground_truth==y_hat])/len(ground_truth))\n",
    "        return acc\n",
    "        "
   ]
  },
  {
   "cell_type": "code",
   "execution_count": 116,
   "metadata": {},
   "outputs": [],
   "source": [
    "net = EEGNet().to(device)"
   ]
  },
  {
   "cell_type": "code",
   "execution_count": 117,
   "metadata": {},
   "outputs": [
    {
     "data": {
      "text/plain": [
       "<bound method Module.parameters of EEGNet(\n",
       "  (firstconv): Sequential(\n",
       "    (0): Conv2d(1, 16, kernel_size=(1, 51), stride=(1, 1), padding=(0, 25), bias=False)\n",
       "    (1): BatchNorm2d(16, eps=1e-05, momentum=0.1, affine=True, track_running_stats=True)\n",
       "  )\n",
       "  (depthwiseConv): Sequential(\n",
       "    (0): Conv2d(16, 32, kernel_size=(2, 1), stride=(1, 1), groups=16, bias=False)\n",
       "    (1): BatchNorm2d(32, eps=1e-05, momentum=0.1, affine=True, track_running_stats=True)\n",
       "    (2): ELU(alpha=0.1)\n",
       "    (3): AvgPool2d(kernel_size=(1, 4), stride=(1, 4), padding=0)\n",
       "    (4): Dropout2d(p=0.25, inplace=False)\n",
       "  )\n",
       "  (seperableConv): Sequential(\n",
       "    (0): Conv2d(32, 32, kernel_size=(1, 15), stride=(1, 1), padding=(0, 7), bias=False)\n",
       "    (1): BatchNorm2d(32, eps=1e-05, momentum=0.1, affine=True, track_running_stats=True)\n",
       "    (2): ELU(alpha=0.1)\n",
       "    (3): AvgPool2d(kernel_size=(1, 8), stride=(1, 8), padding=0)\n",
       "    (4): Dropout2d(p=0.25, inplace=False)\n",
       "    (5): Flatten()\n",
       "  )\n",
       "  (classify): Sequential(\n",
       "    (0): Linear(in_features=736, out_features=2, bias=True)\n",
       "  )\n",
       ")>"
      ]
     },
     "execution_count": 117,
     "metadata": {},
     "output_type": "execute_result"
    }
   ],
   "source": [
    "net.parameters"
   ]
  },
  {
   "cell_type": "code",
   "execution_count": 118,
   "metadata": {},
   "outputs": [],
   "source": [
    "import torch.optim as optim\n",
    "\n",
    "criterion = nn.CrossEntropyLoss()\n",
    "optimizer = optim.Adam(net.parameters(),lr=0.001)"
   ]
  },
  {
   "cell_type": "code",
   "execution_count": 119,
   "metadata": {},
   "outputs": [
    {
     "data": {
      "text/plain": [
       "1080"
      ]
     },
     "execution_count": 119,
     "metadata": {},
     "output_type": "execute_result"
    }
   ],
   "source": [
    "train_data.shape[0]"
   ]
  },
  {
   "cell_type": "code",
   "execution_count": 122,
   "metadata": {},
   "outputs": [
    {
     "name": "stdout",
     "output_type": "stream",
     "text": [
      "epoch  20  : loss =  5.28274068236351\n",
      "epoch  40  : loss =  3.8260190039873123\n",
      "epoch  60  : loss =  2.7128649801015854\n",
      "epoch  80  : loss =  2.3686110451817513\n",
      "epoch  100  : loss =  1.6957837641239166\n",
      "epoch  120  : loss =  1.4130151681602001\n",
      "epoch  140  : loss =  1.1617105826735497\n",
      "epoch  160  : loss =  0.9112832322716713\n",
      "epoch  180  : loss =  0.9887029528617859\n",
      "epoch  200  : loss =  0.7610892448574305\n",
      "epoch  220  : loss =  0.7010587006807327\n",
      "epoch  240  : loss =  0.6103746853768826\n",
      "epoch  260  : loss =  0.5532989641651511\n",
      "epoch  280  : loss =  0.5155819375067949\n",
      "epoch  300  : loss =  0.583822213113308\n"
     ]
    }
   ],
   "source": [
    "num_epochs = 300\n",
    "batch_size = 80\n",
    "print_freq = 20\n",
    "train_data = train_data.to(device)\n",
    "train_label = train_label.to(device)\n",
    "test_data = test_data.to(device)\n",
    "test_label = test_label.to(device)\n",
    "\n",
    "\n",
    "loss_list = []\n",
    "acc_train_list = []\n",
    "acc_test_list = []\n",
    "for epoch in range(1,num_epochs+1):\n",
    "    # Loss in an epoch\n",
    "    epoch_loss = 0.0\n",
    "    \n",
    "    # Make train_data run in batch\n",
    "    permutation = torch.randperm(train_data.shape[0])\n",
    "    \n",
    "    for i in range(0,train_data.shape[0], batch_size):\n",
    "        # Zero the gradients\n",
    "        optimizer.zero_grad()\n",
    "\n",
    "        indices = permutation[i:i+batch_size]\n",
    "        batch_x, batch_y = train_data[indices], train_label[indices]\n",
    "        \n",
    "        # Run the net & Update\n",
    "        outputs = net(batch_x)\n",
    "        #print('output = ',outputs)\n",
    "        loss = criterion(outputs, batch_y)\n",
    "        loss.backward()\n",
    "        optimizer.step()\n",
    "        \n",
    "        epoch_loss += loss.item()\n",
    "    \n",
    "    # Calclate accuracy\n",
    "    acc_train_list.append(net.infer_and_cal_acc(train_data,train_label))\n",
    "    acc_test_list.append(net.infer_and_cal_acc(test_data,test_label))\n",
    "    \n",
    "    \n",
    "    loss_list.append(epoch_loss)\n",
    "    if epoch % print_freq == 0:\n",
    "        print('epoch ',epoch,' : loss = ',epoch_loss)"
   ]
  },
  {
   "cell_type": "code",
   "execution_count": 124,
   "metadata": {},
   "outputs": [],
   "source": [
    "import matplotlib.pyplot as plt\n",
    "\n",
    "def drow_figure(x):\n",
    "    plt.plot(range(len(x)), x)\n",
    "    plt.show()"
   ]
  },
  {
   "cell_type": "code",
   "execution_count": 125,
   "metadata": {},
   "outputs": [
    {
     "data": {
      "image/png": "[encoded data removed]",
      "text/plain": [
       "<Figure size 432x288 with 1 Axes>"
      ]
     },
     "metadata": {
      "needs_background": "light"
     },
     "output_type": "display_data"
    }
   ],
   "source": [
    "drow_figure(loss_list)"
   ]
  },
  {
   "cell_type": "code",
   "execution_count": 126,
   "metadata": {},
   "outputs": [
    {
     "data": {
      "image/png": "[encoded data removed]",
      "text/plain": [
       "<Figure size 432x288 with 1 Axes>"
      ]
     },
     "metadata": {
      "needs_background": "light"
     },
     "output_type": "display_data"
    }
   ],
   "source": [
    "drow_figure(acc_train_list)"
   ]
  },
  {
   "cell_type": "code",
   "execution_count": 127,
   "metadata": {},
   "outputs": [
    {
     "data": {
      "image/png": "[encoded data removed]",
      "text/plain": [
       "<Figure size 432x288 with 1 Axes>"
      ]
     },
     "metadata": {
      "needs_background": "light"
     },
     "output_type": "display_data"
    }
   ],
   "source": [
    "drow_figure(acc_test_list)"
   ]
  },
  {
   "cell_type": "code",
   "execution_count": null,
   "metadata": {},
   "outputs": [],
   "source": []
  }
 ],
 "metadata": {
  "kernelspec": {
   "display_name": "Python 3",
   "language": "python",
   "name": "python3"
  },
  "language_info": {
   "codemirror_mode": {
    "name": "ipython",
    "version": 3
   },
   "file_extension": ".py",
   "mimetype": "text/x-python",
   "name": "python",
   "nbconvert_exporter": "python",
   "pygments_lexer": "ipython3",
   "version": "3.8.3"
  }
 },
 "nbformat": 4,
 "nbformat_minor": 4
}
